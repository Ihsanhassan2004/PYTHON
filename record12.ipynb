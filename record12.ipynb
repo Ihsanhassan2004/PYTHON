{
 "cells": [
  {
   "cell_type": "code",
   "execution_count": 12,
   "id": "fdf89d93-1172-4484-8ad4-0d42b5d41fbd",
   "metadata": {},
   "outputs": [
    {
     "name": "stdin",
     "output_type": "stream",
     "text": [
      "Enter a list of integers:  -1,-2,0,1,2,3\n"
     ]
    },
    {
     "name": "stdout",
     "output_type": "stream",
     "text": [
      "Positive numbers: [1, 2, 3]\n"
     ]
    }
   ],
   "source": [
    "#List comprehensions: (a,b,c,d)\n",
    "#Generate positive list of numbers from a given list of integers \n",
    "n = list(map(int, input(\"Enter a list of integers: \").split(\",\")))\n",
    "pn = [i for i in n if i > 0]\n",
    "print(\"Positive numbers:\", pn)"
   ]
  },
  {
   "cell_type": "code",
   "execution_count": 9,
   "id": "5438883f-0949-4dde-91c4-d068a19aebb9",
   "metadata": {},
   "outputs": [
    {
     "name": "stdin",
     "output_type": "stream",
     "text": [
      "\n",
      "Enter the value of N:  5\n"
     ]
    },
    {
     "name": "stdout",
     "output_type": "stream",
     "text": [
      "Squares: [1, 4, 9, 16, 25]\n"
     ]
    }
   ],
   "source": [
    "#Square of N numbers \n",
    "N = int(input(\"\\nEnter the value of N: \"))\n",
    "s= [i**2 for i in range(1, N+1)]\n",
    "print(\"Squares:\", s)\n"
   ]
  },
  {
   "cell_type": "code",
   "execution_count": 10,
   "id": "b7508b27-61b1-4d02-829b-d6a77d103e9d",
   "metadata": {},
   "outputs": [
    {
     "name": "stdin",
     "output_type": "stream",
     "text": [
      "\n",
      "Enter a word to extract vowels:  hello\n"
     ]
    },
    {
     "name": "stdout",
     "output_type": "stream",
     "text": [
      "Vowels in the word: ['e', 'o']\n"
     ]
    }
   ],
   "source": [
    "#Form a list of vowels selected from a given word \n",
    "w = input(\"\\nEnter a word to extract vowels: \")\n",
    "vl = [c for c in w if c.lower() in 'aeiou']\n",
    "print(\"Vowels in the word:\", vl)"
   ]
  },
  {
   "cell_type": "code",
   "execution_count": 11,
   "id": "bcdef3c9-e144-4be0-a00f-bd3681140cf4",
   "metadata": {},
   "outputs": [
    {
     "name": "stdin",
     "output_type": "stream",
     "text": [
      "\n",
      "Enter a word to get ordinal value:  hello\n"
     ]
    },
    {
     "name": "stdout",
     "output_type": "stream",
     "text": [
      "Ordinal values: [104, 101, 108, 108, 111]\n"
     ]
    }
   ],
   "source": [
    "#List ordinal value of each element of a word (Hint: use ord() to get ordinal values)\n",
    "a = input(\"\\nEnter a word to get ordinal value: \")\n",
    "ov = [ord(ch) for ch in a]\n",
    "print(\"Ordinal values:\", ov)"
   ]
  },
  {
   "cell_type": "code",
   "execution_count": null,
   "id": "a2ac176a-a7c1-4917-8a2e-f727bc76fc59",
   "metadata": {},
   "outputs": [],
   "source": []
  }
 ],
 "metadata": {
  "kernelspec": {
   "display_name": "Python 3 (ipykernel)",
   "language": "python",
   "name": "python3"
  },
  "language_info": {
   "codemirror_mode": {
    "name": "ipython",
    "version": 3
   },
   "file_extension": ".py",
   "mimetype": "text/x-python",
   "name": "python",
   "nbconvert_exporter": "python",
   "pygments_lexer": "ipython3",
   "version": "3.12.3"
  }
 },
 "nbformat": 4,
 "nbformat_minor": 5
}
