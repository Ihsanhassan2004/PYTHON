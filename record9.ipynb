{
 "cells": [
  {
   "cell_type": "code",
   "execution_count": 6,
   "id": "cf3a0279-7d4d-40fa-a3bb-422b8ec9b398",
   "metadata": {},
   "outputs": [
    {
     "name": "stdin",
     "output_type": "stream",
     "text": [
      "Enter 5 roll numbers of student:  5,2,8,1,4\n",
      "Enter 5 student name:  ammu,shifan,amal,arya,akhil\n"
     ]
    },
    {
     "name": "stdout",
     "output_type": "stream",
     "text": [
      "entered students details: {'5': 'ammu', '2': 'shifan', '8': 'amal', '1': 'arya', '4': 'akhil'}\n",
      "ascending order of roll number [('1', 'arya'), ('2', 'shifan'), ('4', 'akhil'), ('5', 'ammu'), ('8', 'amal')]\n",
      "desending order of roll number [('8', 'amal'), ('5', 'ammu'), ('4', 'akhil'), ('2', 'shifan'), ('1', 'arya')]\n"
     ]
    }
   ],
   "source": [
    "#write a python program to accept 5 students names and roll numbers and map these into a dictionary(roll as  key,name as value).sort the dictionary in ascending and desending order of their roll number[use sorted]\n",
    "roll = input(\"Enter 5 roll numbers of student: \").split(\",\")\n",
    "name = input(\"Enter 5 student name: \").split(\",\")\n",
    "students=dict(zip(roll,name))\n",
    "print(\"entered students details:\",students)\n",
    "so= sorted(students.items())\n",
    "ds = sorted(students.items(), reverse=True)\n",
    "print(\"ascending order of roll number\",so)\n",
    "print(\"desending order of roll number\",ds)"
   ]
  },
  {
   "cell_type": "code",
   "execution_count": 8,
   "id": "4bbf1f86-79db-422a-b3de-64e2babcb80b",
   "metadata": {},
   "outputs": [
    {
     "name": "stdin",
     "output_type": "stream",
     "text": [
      "Enter 3 roll numbers:  4,2,7\n",
      "Enter 3 student names:  amal,arya,ihsan\n",
      "Enter 2 roll numbers:  7,1\n",
      "Enter 2 student names:  ihsan,shifan\n"
     ]
    },
    {
     "name": "stdout",
     "output_type": "stream",
     "text": [
      "entered 3 student details: {'4': 'amal', '2': 'arya', '7': 'ihsan'}\n",
      "entered 2 student details: {'7': 'ihsan', '1': 'shifan'}\n",
      "Merged student details: {'4': 'amal', '2': 'arya', '7': 'ihsan', '1': 'shifan'}\n"
     ]
    }
   ],
   "source": [
    "#write a python program  to accept 2 dictionaries(dic1 contain 3 students names and roll numbers and dic2 contain 2 students names and roll number).merge 2 dictionaries and display it[use update()]\n",
    "\n",
    "roll1 = input(\"Enter 3 roll numbers: \").split(\",\")\n",
    "name1 = input(\"Enter 3 student names: \").split(\",\")\n",
    "dic1 = dict(zip(roll1, name1))\n",
    "roll2 = input(\"Enter 2 roll numbers: \").split(\",\")\n",
    "name2 = input(\"Enter 2 student names: \").split(\",\")\n",
    "dic2 = dict(zip(roll2, name2))\n",
    "print(\"entered 3 student details:\",dic1)\n",
    "print(\"entered 2 student details:\",dic2)\n",
    "dic1.update(dic2)\n",
    "print(\"Merged student details:\", dic1)"
   ]
  },
  {
   "cell_type": "code",
   "execution_count": null,
   "id": "f7c34bcc-eea9-4702-ae31-d5d103e9c29a",
   "metadata": {},
   "outputs": [],
   "source": []
  }
 ],
 "metadata": {
  "kernelspec": {
   "display_name": "Python 3 (ipykernel)",
   "language": "python",
   "name": "python3"
  },
  "language_info": {
   "codemirror_mode": {
    "name": "ipython",
    "version": 3
   },
   "file_extension": ".py",
   "mimetype": "text/x-python",
   "name": "python",
   "nbconvert_exporter": "python",
   "pygments_lexer": "ipython3",
   "version": "3.12.3"
  }
 },
 "nbformat": 4,
 "nbformat_minor": 5
}
