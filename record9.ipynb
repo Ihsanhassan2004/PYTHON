{
 "cells": [
  {
   "cell_type": "code",
   "execution_count": 12,
   "id": "cf3a0279-7d4d-40fa-a3bb-422b8ec9b398",
   "metadata": {},
   "outputs": [
    {
     "name": "stdin",
     "output_type": "stream",
     "text": [
      "Enter 5 roll numbers of student:  1,5,7,2\n",
      "Enter 5 student name:  a,g,d,b\n"
     ]
    },
    {
     "name": "stdout",
     "output_type": "stream",
     "text": [
      "entered students details: {'1': 'a', '5': 'g', '7': 'd', '2': 'b'}\n",
      "ascending order of roll number [('1', 'a'), ('2', 'b'), ('5', 'g'), ('7', 'd')]\n",
      "desending order of roll number [('7', 'd'), ('5', 'g'), ('2', 'b'), ('1', 'a')]\n"
     ]
    }
   ],
   "source": [
    "#write a python program to accept 5 students names and roll numbers and map these into a dictionary(roll as  key,name as value).sort the dictionary in ascending and desending order of their roll number[use sorted]\n",
    "roll = input(\"Enter 5 roll numbers of student: \").split(\",\")\n",
    "name = input(\"Enter 5 student name: \").split(\",\")\n",
    "students=dict(zip(roll,name))\n",
    "print(\"entered students details:\",students)\n",
    "so= sorted(students.items())\n",
    "ds = sorted(students.items(), reverse=True)\n",
    "print(\"ascending order of roll number\",so)\n",
    "print(\"desending order of roll number\",ds)"
   ]
  },
  {
   "cell_type": "code",
   "execution_count": null,
   "id": "4bbf1f86-79db-422a-b3de-64e2babcb80b",
   "metadata": {},
   "outputs": [],
   "source": [
    "#write a python program  to accept 2 dictionaries(dic1 contain 3 students names and roll numbers and dic2 contain 2 students names and roll number).merge 2 dictionaries and display it[use update()]\n",
    "\n",
    "roll1 = input(\"Enter 3 roll numbers (comma-separated): \").split(\",\")\n",
    "name1 = input(\"Enter 3 student names (comma-separated): \").split(\",\")\n",
    "dic1 = dict(zip(roll1, name1))\n",
    "roll2 = input(\"Enter 2 roll numbers (comma-separated): \").split(\",\")\n",
    "name2 = input(\"Enter 2 student names (comma-separated): \").split(\",\")\n",
    "dic2 = dict(zip(roll2, name2))\n",
    "print(\"entered 3 student details:\",dic1)\n",
    "print(\"entered 2 student details:\",dic2)\n",
    "dic1.update(dic2)\n",
    "print(\"Merged student details:\", dic1)"
   ]
  },
  {
   "cell_type": "code",
   "execution_count": null,
   "id": "f7c34bcc-eea9-4702-ae31-d5d103e9c29a",
   "metadata": {},
   "outputs": [],
   "source": []
  }
 ],
 "metadata": {
  "kernelspec": {
   "display_name": "Python 3 (ipykernel)",
   "language": "python",
   "name": "python3"
  },
  "language_info": {
   "codemirror_mode": {
    "name": "ipython",
    "version": 3
   },
   "file_extension": ".py",
   "mimetype": "text/x-python",
   "name": "python",
   "nbconvert_exporter": "python",
   "pygments_lexer": "ipython3",
   "version": "3.12.3"
  }
 },
 "nbformat": 4,
 "nbformat_minor": 5
}
