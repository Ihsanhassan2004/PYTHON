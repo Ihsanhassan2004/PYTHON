{
 "cells": [
  {
   "cell_type": "code",
   "execution_count": 4,
   "id": "e8248473-0a0c-48fe-a32e-1b6b641389a5",
   "metadata": {},
   "outputs": [
    {
     "name": "stdin",
     "output_type": "stream",
     "text": [
      "Enter the publisher name:  SHIFAN\n",
      "Enter the book title:  GOAT LIFE\n",
      "Enter the author name:  SIDHU\n",
      "Enter the book price:  1000\n",
      "Enter the number of pages:  2500\n"
     ]
    },
    {
     "name": "stdout",
     "output_type": "stream",
     "text": [
      "BOOK DETAILS\n",
      "The Publisher Name: SHIFAN\n",
      "The Book Title: GOAT LIFE\n",
      "The Book Author: GOAT LIFE\n",
      "The Book Price: 1000.0\n",
      "No Of Pages In The Book: 2500\n"
     ]
    }
   ],
   "source": [
    "\"\"\"Create a class Publisher (name). Derive class Book from Publisher with attributes title and\n",
    "author. Derive class Python from Book with attributes price and no_of_pages. Write a\n",
    "program that displays information about a Python book. Use base class constructor invocation and\n",
    "method overriding.\"\"\"\n",
    "class Publisher:\n",
    "    def __init__(self,name):\n",
    "        self.name=name\n",
    "    def display(self):\n",
    "        print(\"The Publisher Name:\",self.name)\n",
    "\n",
    "class Book(Publisher):\n",
    "    def __init__(self,name,title,author):\n",
    "        super().__init__(name)\n",
    "        self.title=title\n",
    "        self.author=title\n",
    "    def display(self):\n",
    "        super().display() \n",
    "        print(\"The Book Title:\",self.title)\n",
    "        print(\"The Book Author:\",self.author)\n",
    "\n",
    "class python(Book):\n",
    "    def __init__(self,name,title,author,price,No_of_Pages):\n",
    "        super().__init__(name,title,author)\n",
    "        self.price=price\n",
    "        self.No_of_Pages=No_of_Pages\n",
    "    def display(self):\n",
    "        super().display() \n",
    "        print(\"The Book Price:\",self.price)\n",
    "        print(\"No Of Pages In The Book:\",self.No_of_Pages)\n",
    "        \n",
    "name = input(\"Enter the publisher name: \")\n",
    "title = input(\"Enter the book title: \")\n",
    "author = input(\"Enter the author name: \")\n",
    "price = float(input(\"Enter the book price: \"))\n",
    "no_pages = int(input(\"Enter the number of pages: \"))\n",
    "\n",
    "p1 = python(name, title, author, price, no_pages)\n",
    "print(\"BOOK DETAILS\")\n",
    "p1.display()\n",
    "        \n",
    "        \n",
    "        \n",
    "    \n",
    "\n",
    "\n"
   ]
  },
  {
   "cell_type": "code",
   "execution_count": null,
   "id": "9a69d6a5-456b-44bb-8118-1627dbe4acc5",
   "metadata": {},
   "outputs": [],
   "source": []
  }
 ],
 "metadata": {
  "kernelspec": {
   "display_name": "Python 3 (ipykernel)",
   "language": "python",
   "name": "python3"
  },
  "language_info": {
   "codemirror_mode": {
    "name": "ipython",
    "version": 3
   },
   "file_extension": ".py",
   "mimetype": "text/x-python",
   "name": "python",
   "nbconvert_exporter": "python",
   "pygments_lexer": "ipython3",
   "version": "3.12.3"
  }
 },
 "nbformat": 4,
 "nbformat_minor": 5
}
