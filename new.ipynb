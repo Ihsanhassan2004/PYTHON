
{
 "cells": [
  {
   "cell_type": "code",
   "execution_count": 1,
   "id": "6c8209c0-214d-4df7-a859-aa5432d74dcb",
   "metadata": {},
   "outputs": [
    {
     "name": "stdout",
     "output_type": "stream",
     "text": [
      "good morning\n"
     ]
    }
   ],
   "source": [
    "print(\"good morning\")"
   ]
  },
  {
   "cell_type": "code",
   "execution_count": 2,
   "id": "7acb000a-6399-4d7c-8b40-8222d856afbd",
   "metadata": {},
   "outputs": [
    {
     "name": "stdout",
     "output_type": "stream",
     "text": [
      "edolimmal house,chennamangallur\n"
     ]
    }
   ],
   "source": [
    "print(\"edolimmal house,chennamangallur\")"
   ]
  },
  {
   "cell_type": "code",
   "execution_count": 3,
   "id": "0fa64302-4538-448d-876c-c944081435a9",
   "metadata": {},
   "outputs": [
    {
     "name": "stdout",
     "output_type": "stream",
     "text": [
      "edolimmal house \n",
      " chennamangallur\n"
     ]
    }
   ],
   "source": [
    "print(\"edolimmal house \\n chennamangallur\")"
   ]
  },
  {
   "cell_type": "code",
   "execution_count": 4,
   "id": "eebeac46-bca2-4b8d-b1f6-92b2e50e154a",
   "metadata": {},
   "outputs": [
    {
     "name": "stdout",
     "output_type": "stream",
     "text": [
      "2\n"
     ]
    }
   ],
   "source": [
    "print(5//2)"
   ]
  },
  {
   "cell_type": "code",
   "execution_count": 5,
   "id": "eb12de5d-53a7-449e-beb5-29bb8e13d4a1",
   "metadata": {},
   "outputs": [
    {
     "name": "stdout",
     "output_type": "stream",
     "text": [
      "2.5\n"
     ]
    }
   ],
   "source": [
    "print(5/2)"
   ]
  },
  {
   "cell_type": "code",
   "execution_count": 6,
   "id": "065ccc36-8f96-4f7e-b375-a571372f6f9c",
   "metadata": {},
   "outputs": [
    {
     "name": "stdout",
     "output_type": "stream",
     "text": [
      "8\n"
     ]
    }
   ],
   "source": [
    "print(2*2*2)"
   ]
  },
  {
   "cell_type": "code",
   "execution_count": 7,
   "id": "32451f6b-6847-42b0-961d-83573ebede98",
   "metadata": {},
   "outputs": [
    {
     "name": "stdout",
     "output_type": "stream",
     "text": [
      "8\n"
     ]
    }
   ],
   "source": [
    "print(2**3)"
   ]
  },
  {
   "cell_type": "code",
   "execution_count": 9,
   "id": "b8dd4abc-fc9f-4a7e-8ab3-aaa76fdd2b8b",
   "metadata": {},
   "outputs": [
    {
     "name": "stdout",
     "output_type": "stream",
     "text": [
      "\"mca students\"\n"
     ]
    }
   ],
   "source": [
    "print('\"mca students\"')"
   ]
  },
  {
   "cell_type": "code",
   "execution_count": 10,
   "id": "6fa39575-720a-4827-82b3-ff45b9296e27",
   "metadata": {},
   "outputs": [
    {
     "name": "stdout",
     "output_type": "stream",
     "text": [
      "mca \"students\"\n"
     ]
    }
   ],
   "source": [
    "print('mca \"students\"')"
   ]
  },
  {
   "cell_type": "code",
   "execution_count": 11,
   "id": "9c15c2f9-5900-48df-92fd-31dc49d904c0",
   "metadata": {},
   "outputs": [
    {
     "name": "stdout",
     "output_type": "stream",
     "text": [
      "manu\n"
     ]
    }
   ],
   "source": [
    "n=\"manu\"\n",
    "print(n)"
   ]
  },
  {
   "cell_type": "code",
   "execution_count": 12,
   "id": "8b19903a-a7c0-49e0-b28a-cbb415a653cd",
   "metadata": {},
   "outputs": [
    {
     "name": "stdout",
     "output_type": "stream",
     "text": [
      "name= manu\n"
     ]
    }
   ],
   "source": [
    "n=\"manu\"\n",
    "print(\"name=\",n)"
   ]
  },
  {
   "cell_type": "code",
   "execution_count": 12,
   "id": "b261e383-c3cc-4d04-8832-281589913698",
   "metadata": {},
   "outputs": [
    {
     "name": "stdout",
     "output_type": "stream",
     "text": [
      "name= manu\n"
     ]
    }
   ],
   "source": [
    "n=\"manu\"\n",
    "print(\"name=\",n)"
   ]
  },
  {
   "cell_type": "code",
   "execution_count": 13,
   "id": "0841c928-c39d-4977-999d-6d43e9257666",
   "metadata": {},
   "outputs": [
    {
     "name": "stdout",
     "output_type": "stream",
     "text": [
      "name= ma\n"
     ]
    }
   ],
   "source": [
    "n=\"manu\"\n",
    "print(\"name=\",n[0:2])\n"
   ]
  },
  {
   "cell_type": "code",
   "execution_count": 17,
   "id": "b37084a1-b0c0-4308-9217-aaac89cd20b6",
   "metadata": {},
   "outputs": [
    {
     "name": "stdout",
     "output_type": "stream",
     "text": [
      "name= ma\n"
     ]
    }
   ],
   "source": [
    "n=\"manu\"\n",
    "print(\"name=\",n[0:2])"
   ]
  },
  {
   "cell_type": "code",
   "execution_count": 18,
   "id": "720a5d2d-5078-47f3-a4df-31411c78f10c",
   "metadata": {},
   "outputs": [
    {
     "name": "stdout",
     "output_type": "stream",
     "text": [
      "name= man\n"
     ]
    }
   ],
   "source": [
    "n=\"manu\"\n",
    "print(\"name=\",n[0:3])"
   ]
  },
  {
   "cell_type": "code",
   "execution_count": 19,
   "id": "ea0296de-c9e3-434f-ba01-6e3c4a5f20bd",
   "metadata": {},
   "outputs": [
    {
     "name": "stdout",
     "output_type": "stream",
     "text": [
      "name= u\n"
     ]
    }
   ],
   "source": [
    "n=\"manu\"\n",
    "print(\"name=\",n[3:])"
   ]
  },
  {
   "cell_type": "code",
   "execution_count": null,
   "id": "9f619ada-b6e5-4f8f-ab6c-965db1179b47",
   "metadata": {},
   "outputs": [],
   "source": []
  }
 ],
 "metadata": {
  "kernelspec": {
   "display_name": "Python 3 (ipykernel)",
   "language": "python",
   "name": "python3"
  },
  "language_info": {
   "codemirror_mode": {
    "name": "ipython",
    "version": 3
   },
   "file_extension": ".py",
   "mimetype": "text/x-python",
   "name": "python",
   "nbconvert_exporter": "python",
   "pygments_lexer": "ipython3",
   "version": "3.11.7"
  }
 },
 "nbformat": 4,
 "nbformat_minor": 5
}
