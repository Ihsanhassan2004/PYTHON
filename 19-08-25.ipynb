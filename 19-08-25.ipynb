{
 "cells": [
  {
   "cell_type": "code",
   "execution_count": 2,
   "id": "87f6c625-d9fc-4b14-9e8b-9d144271103f",
   "metadata": {},
   "outputs": [
    {
     "name": "stdin",
     "output_type": "stream",
     "text": [
      "enter name= ihsan\n"
     ]
    },
    {
     "name": "stdout",
     "output_type": "stream",
     "text": [
      "hello, ihsan !\n"
     ]
    }
   ],
   "source": [
    "#name with greets\n",
    "name=(input(\"enter name=\"))\n",
    "print(\"hello,\",name,\"!\")"
   ]
  },
  {
   "cell_type": "code",
   "execution_count": 3,
   "id": "4ecd73d8-6ed1-4375-9902-ff1854d6ee68",
   "metadata": {},
   "outputs": [
    {
     "name": "stdin",
     "output_type": "stream",
     "text": [
      "enter number= 4\n"
     ]
    },
    {
     "name": "stdout",
     "output_type": "stream",
     "text": [
      "previous num= 3\n",
      "next num= 5\n"
     ]
    }
   ],
   "source": [
    "#program to find the pre and next num\n",
    "num=int(input(\"enter number=\"))\n",
    "prenum=num-1\n",
    "nexnum=num+1\n",
    "print(\"previous num=\",prenum)\n",
    "print(\"next num=\",nexnum)"
   ]
  },
  {
   "cell_type": "code",
   "execution_count": null,
   "id": "25f96290-7503-4596-9bb7-d18913adbfcb",
   "metadata": {},
   "outputs": [],
   "source": [
    "#program to find simple interest\n",
    "p=float(input(\"enter the amount=\"))\n",
    "r=float(input(\"enter the interest rate=\"))\n",
    "t=float(input(\"enter the tim=\"))"
   ]
  }
 ],
 "metadata": {
  "kernelspec": {
   "display_name": "Python 3 (ipykernel)",
   "language": "python",
   "name": "python3"
  },
  "language_info": {
   "codemirror_mode": {
    "name": "ipython",
    "version": 3
   },
   "file_extension": ".py",
   "mimetype": "text/x-python",
   "name": "python",
   "nbconvert_exporter": "python",
   "pygments_lexer": "ipython3",
   "version": "3.11.7"
  }
 },
 "nbformat": 4,
 "nbformat_minor": 5
}
