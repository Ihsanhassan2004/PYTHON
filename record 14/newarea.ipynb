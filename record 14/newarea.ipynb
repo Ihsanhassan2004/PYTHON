{
 "cells": [
  {
   "cell_type": "code",
   "execution_count": 10,
   "id": "79470b0e-236a-49f7-bb16-0a4903782f6c",
   "metadata": {},
   "outputs": [],
   "source": [
    "\n",
    "def arr(l,b):\n",
    "    print(\"area of rectancle is:\",l*b)\n",
    "def arc(r):\n",
    "    print(\"area of circle is\",3.14*r*r)\n",
    "def prr(l,b):\n",
    "     print(\"perimeter of rectancle:\",2*(l+b))\n",
    "def prc(r):\n",
    "     print(\"perimeter of circle:\",2*3.14*r)"
   ]
  },
  {
   "cell_type": "code",
   "execution_count": null,
   "id": "7fe077f3-b391-44fc-b536-c50107157994",
   "metadata": {},
   "outputs": [],
   "source": []
  }
 ],
 "metadata": {
  "kernelspec": {
   "display_name": "Python 3 (ipykernel)",
   "language": "python",
   "name": "python3"
  },
  "language_info": {
   "codemirror_mode": {
    "name": "ipython",
    "version": 3
   },
   "file_extension": ".py",
   "mimetype": "text/x-python",
   "name": "python",
   "nbconvert_exporter": "python",
   "pygments_lexer": "ipython3",
   "version": "3.12.3"
  }
 },
 "nbformat": 4,
 "nbformat_minor": 5
}
