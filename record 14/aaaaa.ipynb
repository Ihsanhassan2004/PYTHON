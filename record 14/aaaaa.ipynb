{
 "cells": [
  {
   "cell_type": "code",
   "execution_count": 2,
   "id": "eb003c7b-c370-4017-8fbc-3e198a3fd0bb",
   "metadata": {},
   "outputs": [
    {
     "name": "stdout",
     "output_type": "stream",
     "text": [
      "1.rectangle \n",
      " 2.circle\n",
      " 3.exit\n"
     ]
    },
    {
     "name": "stdin",
     "output_type": "stream",
     "text": [
      "enter your choice: 1\n",
      "enter the length of rectancle: 2\n",
      "enter the breadth of rectangle: 2\n"
     ]
    },
    {
     "name": "stdout",
     "output_type": "stream",
     "text": [
      "area of rectancle is: 4.0\n",
      "perimeter of rectancle: 8.0\n",
      "1.rectangle \n",
      " 2.circle\n",
      " 3.exit\n"
     ]
    },
    {
     "name": "stdin",
     "output_type": "stream",
     "text": [
      "enter your choice: 2\n",
      "enter the length of radius: 2\n"
     ]
    },
    {
     "name": "stdout",
     "output_type": "stream",
     "text": [
      "area of circle is 12.56\n",
      "perimeter of circle: 12.56\n",
      "1.rectangle \n",
      " 2.circle\n",
      " 3.exit\n"
     ]
    },
    {
     "name": "stdin",
     "output_type": "stream",
     "text": [
      "enter your choice: 3\n"
     ]
    },
    {
     "name": "stdout",
     "output_type": "stream",
     "text": [
      "exiting\n"
     ]
    }
   ],
   "source": [
    "import newarea\n",
    "while(1):\n",
    "    print(\"1.rectangle \\n 2.circle\\n 3.exit\")\n",
    "    c=float(input(\"enter your choice:\"))\n",
    "    if(c==1):\n",
    "        l=float(input(\"enter the length of rectancle:\"))\n",
    "        b=float(input(\"enter the breadth of rectangle:\"))\n",
    "        newarea.arr(l,b)\n",
    "        newarea.prr(l,b)\n",
    "    elif(c==2):\n",
    "        r=float(input(\"enter the length of radius:\"))\n",
    "        newarea.arc(r)\n",
    "        newarea.prc(r) \n",
    "    else:\n",
    "        print(\"exiting\")\n",
    "        break\n",
    "\n",
    "\n",
    "\n"
   ]
  },
  {
   "cell_type": "code",
   "execution_count": null,
   "id": "3cffcd90-e77b-4a79-864f-feb093378d82",
   "metadata": {},
   "outputs": [],
   "source": []
  }
 ],
 "metadata": {
  "kernelspec": {
   "display_name": "Python 3 (ipykernel)",
   "language": "python",
   "name": "python3"
  },
  "language_info": {
   "codemirror_mode": {
    "name": "ipython",
    "version": 3
   },
   "file_extension": ".py",
   "mimetype": "text/x-python",
   "name": "python",
   "nbconvert_exporter": "python",
   "pygments_lexer": "ipython3",
   "version": "3.12.3"
  }
 },
 "nbformat": 4,
 "nbformat_minor": 5
}
