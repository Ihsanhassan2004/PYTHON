{
 "cells": [
  {
   "cell_type": "code",
   "execution_count": 10,
   "id": "31525e7c-4b7b-4b97-be95-9e72805fc315",
   "metadata": {},
   "outputs": [
    {
     "name": "stdin",
     "output_type": "stream",
     "text": [
      "enter the number= 5\n"
     ]
    },
    {
     "name": "stdout",
     "output_type": "stream",
     "text": [
      "5 + 55 + 555 = 615\n"
     ]
    }
   ],
   "source": [
    "#write a python program that accepts an integer(n) and computes the value of n+nn+nnn\n",
    "n=int(input(\"enter the number=\"))\n",
    "nn=(n*10)+n\n",
    "nnn=(nn*10)+n\n",
    "s=n+nn+nnn\n",
    "print(n,\"+\",nn,\"+\",nnn,\"=\",s)"
   ]
  },
  {
   "cell_type": "code",
   "execution_count": 9,
   "id": "0d4dced3-0874-4633-a64d-39a72eb3e5a8",
   "metadata": {},
   "outputs": [
    {
     "name": "stdin",
     "output_type": "stream",
     "text": [
      "Enter the radius =  3\n"
     ]
    },
    {
     "name": "stdout",
     "output_type": "stream",
     "text": [
      "Area is = 28.27\n"
     ]
    }
   ],
   "source": [
    "from math import pi\n",
    "r = float(input(\"Enter the radius = \"))\n",
    "area =pi* r * r\n",
    "rounded_area = round(area, 2) \n",
    "\n",
    "print(\"Area is =\", rounded_area)"
   ]
  },
  {
   "cell_type": "code",
   "execution_count": null,
   "id": "8319fd0d-a4d4-48af-a408-885c028cbddc",
   "metadata": {},
   "outputs": [],
   "source": []
  }
 ],
 "metadata": {
  "kernelspec": {
   "display_name": "Python 3 (ipykernel)",
   "language": "python",
   "name": "python3"
  },
  "language_info": {
   "codemirror_mode": {
    "name": "ipython",
    "version": 3
   },
   "file_extension": ".py",
   "mimetype": "text/x-python",
   "name": "python",
   "nbconvert_exporter": "python",
   "pygments_lexer": "ipython3",
   "version": "3.11.7"
  }
 },
 "nbformat": 4,
 "nbformat_minor": 5
}
