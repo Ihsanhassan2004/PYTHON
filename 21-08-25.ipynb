{
 "cells": [
  {
   "cell_type": "code",
   "execution_count": 2,
   "id": "b503982d-82bf-4bfe-b108-4b84b721b841",
   "metadata": {},
   "outputs": [
    {
     "name": "stdin",
     "output_type": "stream",
     "text": [
      "enter the celsius: 23\n"
     ]
    },
    {
     "name": "stdout",
     "output_type": "stream",
     "text": [
      "converted fahrenheit is= 73.4 f\n"
     ]
    }
   ],
   "source": [
    "#python program to convert Celius to Fahrenheit\n",
    "x=float(input(\"enter the celsius:\"))\n",
    "y=x*9/5+32\n",
    "print(\"converted fahrenheit is=\",y,\"f\")\n"
   ]
  },
  {
   "cell_type": "code",
   "execution_count": null,
   "id": "0f82ed17-cf9e-48bd-8ca7-f97893d56521",
   "metadata": {},
   "outputs": [],
   "source": []
  }
 ],
 "metadata": {
  "kernelspec": {
   "display_name": "Python 3 (ipykernel)",
   "language": "python",
   "name": "python3"
  },
  "language_info": {
   "codemirror_mode": {
    "name": "ipython",
    "version": 3
   },
   "file_extension": ".py",
   "mimetype": "text/x-python",
   "name": "python",
   "nbconvert_exporter": "python",
   "pygments_lexer": "ipython3",
   "version": "3.11.7"
  }
 },
 "nbformat": 4,
 "nbformat_minor": 5
}
