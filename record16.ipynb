{
 "cells": [
  {
   "cell_type": "code",
   "execution_count": null,
   "id": "143f4093-6a3b-4046-8a35-4f097eef8bb8",
   "metadata": {},
   "outputs": [
    {
     "name": "stdin",
     "output_type": "stream",
     "text": [
      "enter account number: 123\n",
      "enter your name: ihsan\n",
      "enter your account type(savings/current) current\n",
      "enter initial balance:  2000\n"
     ]
    },
    {
     "name": "stdout",
     "output_type": "stream",
     "text": [
      "1.Deposit 2.withdraw 3.Account details 4.exit\n"
     ]
    },
    {
     "name": "stdin",
     "output_type": "stream",
     "text": [
      "enter your choice: 2\n",
      "enter amount the amount to withdraw: 4000\n"
     ]
    },
    {
     "name": "stdout",
     "output_type": "stream",
     "text": [
      "initial balance: 2000.0\n",
      "insufficient balance!!\n",
      "Final balance: 2000.0\n",
      "1.Deposit 2.withdraw 3.Account details 4.exit\n"
     ]
    },
    {
     "name": "stdin",
     "output_type": "stream",
     "text": [
      "enter your choice: 3\n"
     ]
    },
    {
     "name": "stdout",
     "output_type": "stream",
     "text": [
      "Account Number= 123\n",
      "Account Name= ihsan\n",
      "Account type= current\n",
      "your bank balance= 2000.0\n",
      "1.Deposit 2.withdraw 3.Account details 4.exit\n"
     ]
    }
   ],
   "source": [
    "\"\"\"Create a Bank account with members account number, name, type of account and balance.\n",
    "Write constructor and methods to deposit at the bank and withdraw an amount from the bank.\n",
    "\"\"\"\n",
    "class bank:\n",
    "    def __init__(self,acc_no,name,acc_type,balance):\n",
    "        self.acc_no=acc_no\n",
    "        self.name=name\n",
    "        self.acc_type=acc_type\n",
    "        self.balance=balance\n",
    "    def deposit(self,amount):\n",
    "        print(\"The initial blanace:\",self.balance)\n",
    "        self.balance+=amount\n",
    "        print(\"Final Balance:\",self.balance)\n",
    "    def withdraw(self,amount):\n",
    "        print(\"initial balance:\",self.balance)\n",
    "        if amount>self.balance:\n",
    "            print(\"insufficient balance!!\")\n",
    "        else:\n",
    "            self.balance-=amount\n",
    "        print(\"Final balance:\",self.balance)\n",
    "an=input(\"enter account number:\")\n",
    "name=input(\"enter your name:\")\n",
    "act=input(\"enter your account type(savings/current)\")\n",
    "ba = float(input(\"enter initial balance: \"))\n",
    "new=bank(an,name,act,ba)\n",
    "while (1):\n",
    "    print(\"1.Deposit 2.withdraw 3.Account details 4.exit\")\n",
    "    a=int(input(\"enter your choice:\"))\n",
    "    if a==1:\n",
    "        am=float(input(\"enter amount the amount to deposit:\"))\n",
    "        new.deposit(am)\n",
    "        print(\"\\n successfully deposit\")\n",
    "    elif a==2:\n",
    "        am=float(input(\"enter amount the amount to withdraw:\"))\n",
    "        new.withdraw(am)   \n",
    "    elif a==3:\n",
    "        print(\"Account Number=\",new.acc_no)\n",
    "        print(\"Account Name=\",new.name)\n",
    "        print(\"Account type=\",new.acc_type)\n",
    "        print(\"your bank balance=\",new.balance)\n",
    "    else:\n",
    "        print(\"exiting.....\")\n",
    "        break\n",
    "            \n",
    "          \n",
    "\n",
    "        \n",
    "        \n"
   ]
  },
  {
   "cell_type": "code",
   "execution_count": null,
   "id": "b39e937a-538a-4c6f-bcc4-8182b81b2e01",
   "metadata": {},
   "outputs": [],
   "source": []
  }
 ],
 "metadata": {
  "kernelspec": {
   "display_name": "Python 3 (ipykernel)",
   "language": "python",
   "name": "python3"
  },
  "language_info": {
   "codemirror_mode": {
    "name": "ipython",
    "version": 3
   },
   "file_extension": ".py",
   "mimetype": "text/x-python",
   "name": "python",
   "nbconvert_exporter": "python",
   "pygments_lexer": "ipython3",
   "version": "3.12.3"
  }
 },
 "nbformat": 4,
 "nbformat_minor": 5
}
