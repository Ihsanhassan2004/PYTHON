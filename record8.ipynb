{
 "cells": [
  {
   "cell_type": "code",
   "execution_count": 9,
   "id": "2701feb2-8e8a-4e3d-8241-7902d5fd2263",
   "metadata": {},
   "outputs": [
    {
     "name": "stdin",
     "output_type": "stream",
     "text": [
      "Enter colors for set 1 red,yellow\n",
      "Enter colors for set 2, yellow,black\n"
     ]
    },
    {
     "name": "stdout",
     "output_type": "stream",
     "text": [
      "set 1: {'red', 'yellow'}\n",
      "set 2: {'yellow', 'black'}\n",
      "\n",
      "Colors in set 1 not contained in set 2: {'red'}\n"
     ]
    }
   ],
   "source": [
    "#write a python program to printout all colors from color set 1 not contained in color set 2.\n",
    "cs1 = set(input(\"Enter colors for set 1\").split(','))\n",
    "cs2 = set(input(\"Enter colors for set 2,\").split(','))\n",
    "cs3 = cs1 - cs2\n",
    "print(\"set 1:\",cs1)\n",
    "print(\"set 2:\",cs2)\n",
    "print(\"\\nColors in set 1 not contained in set 2:\",cs3)\n"
   ]
  },
  {
   "cell_type": "code",
   "execution_count": 10,
   "id": "e9b4b53c-2961-4e1b-af69-58269b52ae18",
   "metadata": {},
   "outputs": [
    {
     "name": "stdin",
     "output_type": "stream",
     "text": [
      "Enter colors for set 1 black,red,blue\n",
      "Enter colors for set 2 black,red,yellow\n"
     ]
    },
    {
     "name": "stdout",
     "output_type": "stream",
     "text": [
      "set 1: {'red', 'black', 'blue'}\n",
      "set 2: {'red', 'yellow', 'black'}\n",
      "\n",
      "all colors from color set 1 and color set 2: {'blue', 'yellow', 'red', 'black'}\n"
     ]
    }
   ],
   "source": [
    "#write a python program to pritout all colors from color set 1 and color set2\n",
    "s1=set(input(\"Enter colors for set 1\").split(','))\n",
    "s2=set(input(\"Enter colors for set 2\").split(','))\n",
    "s3=s1|s2 \n",
    "print(\"set 1:\",s1)\n",
    "print(\"set 2:\",s2)\n",
    "print(\"\\nall colors from color set 1 and color set 2:\",s3)"
   ]
  },
  {
   "cell_type": "code",
   "execution_count": null,
   "id": "c8af4aae-af47-47b8-920e-57504dd05c9c",
   "metadata": {},
   "outputs": [],
   "source": []
  }
 ],
 "metadata": {
  "kernelspec": {
   "display_name": "Python 3 (ipykernel)",
   "language": "python",
   "name": "python3"
  },
  "language_info": {
   "codemirror_mode": {
    "name": "ipython",
    "version": 3
   },
   "file_extension": ".py",
   "mimetype": "text/x-python",
   "name": "python",
   "nbconvert_exporter": "python",
   "pygments_lexer": "ipython3",
   "version": "3.12.3"
  }
 },
 "nbformat": 4,
 "nbformat_minor": 5
}
