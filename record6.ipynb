{
 "cells": [
  {
   "cell_type": "code",
   "execution_count": 5,
   "id": "f24528cc-894d-443c-9861-34a2766ef9c4",
   "metadata": {},
   "outputs": [
    {
     "name": "stdin",
     "output_type": "stream",
     "text": [
      "enter values 2,4,\"hi\",7,8,True\n"
     ]
    },
    {
     "name": "stdout",
     "output_type": "stream",
     "text": [
      "tuple is= ('2', '4', '\"hi\"', '7', '8', 'True')\n",
      "3rd element and last 3rd element is= \"hi\" and 7\n"
     ]
    }
   ],
   "source": [
    "#write a python program to get the 3rd element and 3rd last element from last of a tuple\n",
    "t=tuple(input(\"enter values\").split(\",\"))\n",
    "print(\"tuple is=\",t)\n",
    "print(\"3rd element and last 3rd element is=\",t[2],\"and\",t[-3])"
   ]
  },
  {
   "cell_type": "code",
   "execution_count": 3,
   "id": "4aaf4f9a-2dd3-4428-97f2-ce32d7d2d223",
   "metadata": {},
   "outputs": [
    {
     "name": "stdin",
     "output_type": "stream",
     "text": [
      "enter numbers 2,4,3,5,5,6\n"
     ]
    },
    {
     "name": "stdout",
     "output_type": "stream",
     "text": [
      "tuple= (2.0, 4.0, 3.0, 5.0, 5.0, 6.0)\n",
      "Average value = 4.17\n"
     ]
    }
   ],
   "source": [
    "#write a python program which accpts a sequence of comma-seperated numbers from user and generate a tuple with those numbers and find average of all items that tuple\n",
    "t=tuple(map(float,input(\"enter numbers\").split(\",\")))\n",
    "print(\"tuple=\",t)\n",
    "x = len(t)\n",
    "y = sum(t)\n",
    "print(\"Average value =\", round(y/x,2))"
   ]
  },
  {
   "cell_type": "code",
   "execution_count": null,
   "id": "61adb516-2030-4504-b2fe-f673c2853827",
   "metadata": {},
   "outputs": [],
   "source": []
  }
 ],
 "metadata": {
  "kernelspec": {
   "display_name": "Python 3 (ipykernel)",
   "language": "python",
   "name": "python3"
  },
  "language_info": {
   "codemirror_mode": {
    "name": "ipython",
    "version": 3
   },
   "file_extension": ".py",
   "mimetype": "text/x-python",
   "name": "python",
   "nbconvert_exporter": "python",
   "pygments_lexer": "ipython3",
   "version": "3.11.7"
  }
 },
 "nbformat": 4,
 "nbformat_minor": 5
}
