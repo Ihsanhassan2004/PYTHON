{
 "cells": [
  {
   "cell_type": "code",
   "execution_count": 25,
   "id": "4599ccfd-829e-4512-aeb0-8397092f8a7a",
   "metadata": {},
   "outputs": [
    {
     "name": "stdin",
     "output_type": "stream",
     "text": [
      "Enter words:  hi hello\n"
     ]
    },
    {
     "name": "stdout",
     "output_type": "stream",
     "text": [
      "Length of the longest word is: 5\n"
     ]
    }
   ],
   "source": [
    "#accept a list of words and return length of longest word.\n",
    "def llw(word_list):\n",
    "    ml = 0\n",
    "    for word in word_list:\n",
    "        if len(word) > ml:\n",
    "            ml = len(word)\n",
    "    return ml\n",
    "\n",
    "words = input(\"Enter words: \").split()\n",
    "\n",
    "\n",
    "print(\"Length of the longest word is:\", llw(words))"
   ]
  },
  {
   "cell_type": "code",
   "execution_count": 18,
   "id": "15fa38dc-5006-43d2-a5fe-53a0afc8aca5",
   "metadata": {},
   "outputs": [
    {
     "name": "stdin",
     "output_type": "stream",
     "text": [
      "enter the number: 5\n"
     ]
    },
    {
     "name": "stdout",
     "output_type": "stream",
     "text": [
      "* \n",
      "* * \n",
      "* * * \n",
      "* * * * \n",
      "* * * * * \n",
      "* * * * \n",
      "* * * \n",
      "* * \n",
      "* \n"
     ]
    }
   ],
   "source": [
    "#construct the following  pattern using nested loop\n",
    "#*\n",
    "#* *\n",
    "#* * *\n",
    "#* * * *\n",
    "#* * * * *\n",
    "#* * * * \n",
    "#* * *\n",
    "#* *\n",
    "#*\n",
    "def ps(n):\n",
    "    for i in range(1,n+1):\n",
    "        for j in range(i):\n",
    "            print(\"*\",end=\" \")\n",
    "        print()\n",
    "    for i in range(n-1,0,-1):\n",
    "        for j in range(i):\n",
    "            print(\"*\",end=\" \")\n",
    "        print() \n",
    "\n",
    "            \n",
    "n=int(input(\"enter the number:\"))\n",
    "ps(n)"
   ]
  },
  {
   "cell_type": "code",
   "execution_count": 9,
   "id": "4c0a6538-e7d9-4e61-8529-8c79a98aa64d",
   "metadata": {},
   "outputs": [
    {
     "name": "stdin",
     "output_type": "stream",
     "text": [
      "enter the number:  15\n"
     ]
    },
    {
     "name": "stdout",
     "output_type": "stream",
     "text": [
      "factors of 15 are\n",
      "1\n",
      "3\n",
      "5\n",
      "15\n"
     ]
    }
   ],
   "source": [
    "n=int(input(\"enter the number: \"))\n",
    "print(\"factors of\",n,\"are\") \n",
    "def fact(n):\n",
    "    for i in range(1,n+1):\n",
    "        if n%i==0:\n",
    "            print(i)\n",
    "\n",
    "fact(n)     \n",
    "        \n",
    "        \n",
    "       \n"
   ]
  },
  {
   "cell_type": "code",
   "execution_count": 24,
   "id": "bcdd6476-72a9-4ee5-a919-4affb8c1c368",
   "metadata": {},
   "outputs": [
    {
     "name": "stdin",
     "output_type": "stream",
     "text": [
      "enter the side of square: 5\n",
      "enter the length of rectancle: 2\n",
      "enter the breadth of rectancle: 3\n",
      "enter the breadth of triangle: 4\n",
      "enter the height of triangle: 5\n"
     ]
    },
    {
     "name": "stdout",
     "output_type": "stream",
     "text": [
      "the area of squares: 25.0\n",
      "the area of rectancle: 6.0\n",
      "the area of triangle: 10.0\n"
     ]
    }
   ],
   "source": [
    "#write lambda functions to find area of square,rectancle and trinangle\n",
    "squares=lambda s:side*side\n",
    "rectancle=lambda l,b:l* b\n",
    "triangle=lambda bt,h:0.5*bt*h\n",
    "side=float(input(\"enter the side of square:\"))\n",
    "l=float(input(\"enter the length of rectancle:\"))\n",
    "b=float(input(\"enter the breadth of rectancle:\"))\n",
    "bt=float(input(\"enter the breadth of triangle:\"))\n",
    "h=float(input(\"enter the height of triangle:\"))\n",
    "print(\"the area of squares:\",squares(side))\n",
    "print(\"the area of rectancle:\",rectancle(l,b))\n",
    "print(\"the area of triangle:\",triangle(h,bt))\n",
    "\n"
   ]
  },
  {
   "cell_type": "code",
   "execution_count": null,
   "id": "144a9baa-8ff5-4471-acd3-8bcfadcac776",
   "metadata": {},
   "outputs": [],
   "source": []
  }
 ],
 "metadata": {
  "kernelspec": {
   "display_name": "Python 3 (ipykernel)",
   "language": "python",
   "name": "python3"
  },
  "language_info": {
   "codemirror_mode": {
    "name": "ipython",
    "version": 3
   },
   "file_extension": ".py",
   "mimetype": "text/x-python",
   "name": "python",
   "nbconvert_exporter": "python",
   "pygments_lexer": "ipython3",
   "version": "3.12.3"
  }
 },
 "nbformat": 4,
 "nbformat_minor": 5
}
