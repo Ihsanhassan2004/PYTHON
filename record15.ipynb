{
 "cells": [
  {
   "cell_type": "code",
   "execution_count": 3,
   "id": "ef85fdea-8029-4a9a-9546-fe549b07deb1",
   "metadata": {},
   "outputs": [
    {
     "name": "stdin",
     "output_type": "stream",
     "text": [
      "Enter the length of Rectangle1: 2\n",
      "Enter the breadth of Rectangle1: 4\n",
      "Enter the length of Rectangle2: 5\n",
      "Enter the breadth of Rectangle2: 3\n"
     ]
    },
    {
     "name": "stdout",
     "output_type": "stream",
     "text": [
      "Area of Rectangle1 8\n",
      "perimeter of Reactangle1 12\n",
      "Area of Rectangle2 15\n",
      "perimeter of Reactangle2 16\n",
      "Rectangle2 is bigger\n"
     ]
    }
   ],
   "source": [
    "#create Rectangle class with attributes length and breadth and methods to find area and perimeter. compare two rectangle objects by their area\n",
    "class Rectangle:\n",
    "    def data(self,l,b):\n",
    "        self.l=l\n",
    "        self.b=b\n",
    "    def area(self):\n",
    "        return self.l*self.b\n",
    "    def peri(self):\n",
    "        return 2*(self.l+self.b)\n",
    "l1=int(input(\"Enter the length of Rectangle1:\"))\n",
    "b1=int(input(\"Enter the breadth of Rectangle1:\"))\n",
    "l2=int(input(\"Enter the length of Rectangle2:\"))\n",
    "b2=int(input(\"Enter the breadth of Rectangle2:\"))\n",
    "r1=Rectangle()\n",
    "r1.data(l1,b1)\n",
    "r2=Rectangle()\n",
    "r2.data(l2,b2)\n",
    "print(\"Area of Rectangle1\",r1.area())\n",
    "print(\"perimeter of Reactangle1\",r1.peri())\n",
    "print(\"Area of Rectangle2\",r2.area())\n",
    "print(\"perimeter of Reactangle2\",r2.peri())\n",
    "if r1.area() > r2.area():\n",
    "    print(\"Rectangle1 is bigger\")\n",
    "elif r1.area() < r2.area():\n",
    "    print(\"Rectangle2 is bigger\")\n",
    "else:\n",
    "    print(\"Both rectangles are equal in area\")\n",
    "\n"
   ]
  },
  {
   "cell_type": "code",
   "execution_count": null,
   "id": "0cc7c10d-df43-48e8-a040-fcf022f66eac",
   "metadata": {},
   "outputs": [],
   "source": []
  }
 ],
 "metadata": {
  "kernelspec": {
   "display_name": "Python 3 (ipykernel)",
   "language": "python",
   "name": "python3"
  },
  "language_info": {
   "codemirror_mode": {
    "name": "ipython",
    "version": 3
   },
   "file_extension": ".py",
   "mimetype": "text/x-python",
   "name": "python",
   "nbconvert_exporter": "python",
   "pygments_lexer": "ipython3",
   "version": "3.12.3"
  }
 },
 "nbformat": 4,
 "nbformat_minor": 5
}
