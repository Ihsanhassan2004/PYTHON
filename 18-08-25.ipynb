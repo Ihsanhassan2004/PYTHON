{
 "cells": [
  {
   "cell_type": "code",
   "execution_count": 4,
   "id": "c9f6da17-010d-489e-b358-b87ad765e39e",
   "metadata": {},
   "outputs": [
    {
     "name": "stdout",
     "output_type": "stream",
     "text": [
      "4.0\n"
     ]
    }
   ],
   "source": [
    "#import math\n",
    "number=16\n",
    "result = math.sqrt(number)\n",
    "print(result)"
   ]
  },
  {
   "cell_type": "code",
   "execution_count": 6,
   "id": "79e75aef-9547-4577-9fb9-58f82948b722",
   "metadata": {},
   "outputs": [
    {
     "ename": "SyntaxError",
     "evalue": "invalid syntax (3688014875.py, line 3)",
     "output_type": "error",
     "traceback": [
      "\u001b[0;36m  Cell \u001b[0;32mIn[6], line 3\u001b[0;36m\u001b[0m\n\u001b[0;31m    result = .sqrt(number)\u001b[0m\n\u001b[0m             ^\u001b[0m\n\u001b[0;31mSyntaxError\u001b[0m\u001b[0;31m:\u001b[0m invalid syntax\n"
     ]
    }
   ],
   "source": [
    "#import math\n",
    "number=16\n",
    "result = .sqrt(number)\n",
    "print(result)"
   ]
  },
  {
   "cell_type": "code",
   "execution_count": 9,
   "id": "7961cf8c-a82f-416b-a525-80350828a5a0",
   "metadata": {},
   "outputs": [
    {
     "name": "stdout",
     "output_type": "stream",
     "text": [
      "ceil= 5\n",
      "floor= 4\n"
     ]
    }
   ],
   "source": [
    "import math\n",
    "number=4.7\n",
    "print(\"ceil=\",math.ceil(number))\n",
    "print(\"floor=\",math.floor(number))"
   ]
  },
  {
   "cell_type": "code",
   "execution_count": 10,
   "id": "f6470a8d-3bfb-4598-b8fe-8afccad55def",
   "metadata": {},
   "outputs": [
    {
     "name": "stdin",
     "output_type": "stream",
     "text": [
      "Enter the length of one side of the square:  2\n"
     ]
    },
    {
     "name": "stdout",
     "output_type": "stream",
     "text": [
      "The area of the square is: 4.0\n"
     ]
    }
   ],
   "source": [
    "#write a program to compute the area of a squre\n",
    "side = float(input(\"Enter the length of one side of the square: \"))\n",
    "area = side ** 2\n",
    "print(\"The area of the square is:\", area)"
   ]
  },
  {
   "cell_type": "code",
   "execution_count": 11,
   "id": "c1a99204-6ed1-4713-abae-279087d7975a",
   "metadata": {},
   "outputs": [
    {
     "name": "stdin",
     "output_type": "stream",
     "text": [
      "Enter the length of the base: 12\n",
      "Enter the height:  4\n"
     ]
    },
    {
     "name": "stdout",
     "output_type": "stream",
     "text": [
      "area of a right-angled triangle= 24.0\n"
     ]
    }
   ],
   "source": [
    "# Program to compute the area of a right-angled triangle\n",
    "length=float(input(\"Enter the length of the base:\"))\n",
    "height = float(input(\"Enter the height: \"))\n",
    "area=0.5*length*height\n",
    "print(\"area of a right-angled triangle=\",area)"
   ]
  },
  {
   "cell_type": "code",
   "execution_count": null,
   "id": "5060c2ec-eb7d-4c93-9c2f-750fc945dd97",
   "metadata": {},
   "outputs": [],
   "source": []
  }
 ],
 "metadata": {
  "kernelspec": {
   "display_name": "Python 3 (ipykernel)",
   "language": "python",
   "name": "python3"
  },
  "language_info": {
   "codemirror_mode": {
    "name": "ipython",
    "version": 3
   },
   "file_extension": ".py",
   "mimetype": "text/x-python",
   "name": "python",
   "nbconvert_exporter": "python",
   "pygments_lexer": "ipython3",
   "version": "3.11.7"
  }
 },
 "nbformat": 4,
 "nbformat_minor": 5
}
