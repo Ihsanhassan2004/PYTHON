{
 "cells": [
  {
   "cell_type": "code",
   "execution_count": 25,
   "id": "d74d1d29-4cef-42ad-8027-d4d46333be94",
   "metadata": {},
   "outputs": [
    {
     "name": "stdout",
     "output_type": "stream",
     "text": [
      "even numbers are= [0, 2, 4, 6, 8, 10, 12, 14, 16, 18, 20, 22, 24]\n",
      "sum of the even numbers: 156\n"
     ]
    }
   ],
   "source": [
    "#write a python program to print all even numbers from 1 to 25 and calculate sum(using range() function directly without a loop condition)\n",
    "even=range(0,25,2)\n",
    "print(\"even numbers are=\",list(even))\n",
    "print(\"sum of the even numbers:\",sum(even))"
   ]
  },
  {
   "cell_type": "code",
   "execution_count": 11,
   "id": "d4be8f31-f308-4bb0-b180-108d9024c49c",
   "metadata": {},
   "outputs": [
    {
     "name": "stdin",
     "output_type": "stream",
     "text": [
      "enter the range:  25\n"
     ]
    },
    {
     "name": "stdout",
     "output_type": "stream",
     "text": [
      "given range values= [0, 1, 2, 3, 4, 5, 6, 7, 8, 9, 10, 11, 12, 13, 14, 15, 16, 17, 18, 19, 20, 21, 22, 23, 24, 25]\n",
      "reversed [25, 24, 23, 22, 21, 20, 19, 18, 17, 16, 15, 14, 13, 12, 11, 10, 9, 8, 7, 6, 5, 4, 3, 2]\n",
      "sum of reversed values= 325\n"
     ]
    }
   ],
   "source": [
    "#write a python program to print all in reverse order and calculate their sum\n",
    "a=int(input(\"enter the range: \"))\n",
    "b=range(0,a+1,1)\n",
    "c=list(b)\n",
    "print(\"given range values=\",c)\n",
    "y=range(a,-1,-1)\n",
    "print(\"reversed\",list(y))\n",
    "print(\"sum of reversed values=\",sum(c))"
   ]
  },
  {
   "cell_type": "code",
   "execution_count": null,
   "id": "4decc0f1-42a1-49f8-a9b5-0d0d182acd29",
   "metadata": {},
   "outputs": [],
   "source": []
  }
 ],
 "metadata": {
  "kernelspec": {
   "display_name": "Python 3 (ipykernel)",
   "language": "python",
   "name": "python3"
  },
  "language_info": {
   "codemirror_mode": {
    "name": "ipython",
    "version": 3
   },
   "file_extension": ".py",
   "mimetype": "text/x-python",
   "name": "python",
   "nbconvert_exporter": "python",
   "pygments_lexer": "ipython3",
   "version": "3.12.3"
  }
 },
 "nbformat": 4,
 "nbformat_minor": 5
}
