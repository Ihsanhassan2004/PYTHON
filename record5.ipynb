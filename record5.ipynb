{
 "cells": [
  {
   "cell_type": "code",
   "execution_count": 8,
   "id": "2ce1089a-a943-4cb8-b4aa-13dd78bf9ca2",
   "metadata": {},
   "outputs": [
    {
     "name": "stdin",
     "output_type": "stream",
     "text": [
      "enter list of colours: red,black,white\n"
     ]
    },
    {
     "name": "stdout",
     "output_type": "stream",
     "text": [
      "first and last colors= red,white\n"
     ]
    }
   ],
   "source": [
    "#create a list of colors from comma-sperated color names entered by user.display first and last colours\n",
    "color=input(\"enter list of colours:\")\n",
    "n=color.split(\",\")\n",
    "f=n[0]\n",
    "l=n[-1]\n",
    "print(\"first and last colors=\",f+\",\"+l)\n"
   ]
  },
  {
   "cell_type": "code",
   "execution_count": 11,
   "id": "2ecf16e6-b951-4d44-b076-e95fa3f87f08",
   "metadata": {},
   "outputs": [
    {
     "name": "stdin",
     "output_type": "stream",
     "text": [
      "enter the file name: ih.pdf\n"
     ]
    },
    {
     "name": "stdout",
     "output_type": "stream",
     "text": [
      "the file extension is: pdf\n"
     ]
    }
   ],
   "source": [
    "#write a python program to accept a filrname from user,print extension of that\n",
    "fn=input(\"enter the file name:\")\n",
    "l=fn.split(\".\")\n",
    "print(\"the file extension is:\",l[-1])\n",
    "\n"
   ]
  },
  {
   "cell_type": "code",
   "execution_count": 17,
   "id": "1cc38ca2-a38f-4f62-9a8c-995934fa751f",
   "metadata": {},
   "outputs": [
    {
     "name": "stdin",
     "output_type": "stream",
     "text": [
      "enter a sequence of numbers seperated by comma: 1,5,3,7\n"
     ]
    },
    {
     "name": "stdout",
     "output_type": "stream",
     "text": [
      "sum of all items in list: 16\n"
     ]
    }
   ],
   "source": [
    "#write a python program which accepts a sequence of comma-seperated numbers from user and generate a list with those numbers and find sum of all items in that list.\n",
    "m=input(\"enter a sequence of numbers seperated by comma:\")\n",
    "s=sum(list(map(int,m.split(\",\"))))\n",
    "\n",
    "print(\"sum of all items in list:\",s)"
   ]
  },
  {
   "cell_type": "code",
   "execution_count": null,
   "id": "ecd77129-4322-47a5-a323-1e848bb0440a",
   "metadata": {},
   "outputs": [],
   "source": []
  }
 ],
 "metadata": {
  "kernelspec": {
   "display_name": "Python 3 (ipykernel)",
   "language": "python",
   "name": "python3"
  },
  "language_info": {
   "codemirror_mode": {
    "name": "ipython",
    "version": 3
   },
   "file_extension": ".py",
   "mimetype": "text/x-python",
   "name": "python",
   "nbconvert_exporter": "python",
   "pygments_lexer": "ipython3",
   "version": "3.12.3"
  }
 },
 "nbformat": 4,
 "nbformat_minor": 5
}
