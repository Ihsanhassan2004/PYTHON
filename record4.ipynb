{
 "cells": [
  {
   "cell_type": "code",
   "execution_count": 22,
   "id": "4adb2d54-de3b-4cdd-acd5-c5f77aa88a82",
   "metadata": {},
   "outputs": [
    {
     "name": "stdin",
     "output_type": "stream",
     "text": [
      "enter a string: programing\n"
     ]
    },
    {
     "name": "stdout",
     "output_type": "stream",
     "text": [
      "converted string is: grograminp\n"
     ]
    }
   ],
   "source": [
    "#write python program to interchange the last and first letter\n",
    "a=(input(\"enter a string:\"))\n",
    "f=a[0]\n",
    "l=a[-1]\n",
    "m=a[1:-1]\n",
    "print(\"converted string is:\",l+m+f)"
   ]
  },
  {
   "cell_type": "code",
   "execution_count": 35,
   "id": "8c48cf28-3042-4b0e-8d66-a22f6898b17d",
   "metadata": {},
   "outputs": [
    {
     "name": "stdin",
     "output_type": "stream",
     "text": [
      "enter a string: programing\n"
     ]
    },
    {
     "name": "stdout",
     "output_type": "stream",
     "text": [
      "new string = prng\n"
     ]
    }
   ],
   "source": [
    "#write python program to get a string made of the first 2 and last 2 chars from a given string \n",
    "a=(input(\"enter a string:\"))\n",
    "f=a[0:2]\n",
    "l=a[-2:]\n",
    "c=f+l\n",
    "print(\"new string =\",c)\n"
   ]
  },
  {
   "cell_type": "code",
   "execution_count": 19,
   "id": "e94f0d6c-102f-4f48-af7f-4b49e90ad564",
   "metadata": {},
   "outputs": [
    {
     "name": "stdin",
     "output_type": "stream",
     "text": [
      "enter first string: ihsan\n",
      "enter  second string: hassan\n"
     ]
    },
    {
     "name": "stdout",
     "output_type": "stream",
     "text": [
      "converted single string is: hasan ihssan\n"
     ]
    }
   ],
   "source": [
    "#write python program to get a single string from two given strings, seperated by a space and swap the first two character of each string\n",
    "s1=(input(\"enter first string:\"))\n",
    "s2=(input(\"enter  second string:\"))\n",
    "fs1=s1[0:2]\n",
    "fs2=s2[0:2]\n",
    "ns1=fs2+s1[2:]\n",
    "ns2=fs1+s2[2:]\n",
    "a=(ns1+\" \"+ns2)\n",
    "print(\"converted single string is:\",a)"
   ]
  },
  {
   "cell_type": "code",
   "execution_count": 21,
   "id": "f085c138-f494-4dce-baea-05477358d644",
   "metadata": {},
   "outputs": [
    {
     "name": "stdin",
     "output_type": "stream",
     "text": [
      "enter a string: ihsin\n"
     ]
    },
    {
     "name": "stdout",
     "output_type": "stream",
     "text": [
      "replaced string is: ihs$n\n"
     ]
    }
   ],
   "source": [
    "#write a python program to get a string from a given string where all occurrences of its first char have been changed to $,except the first char itself(use replace())[ex:onion->$n]\n",
    "s=(input(\"enter a string:\"))\n",
    "f=s[0]\n",
    "l=s.replace(f,\"$\")\n",
    "print(\"replaced string is:\",f+l[1:])"
   ]
  },
  {
   "cell_type": "code",
   "execution_count": null,
   "id": "80dd4d32-e136-4174-86e0-373fe8d04ae3",
   "metadata": {},
   "outputs": [],
   "source": []
  }
 ],
 "metadata": {
  "kernelspec": {
   "display_name": "Python 3 (ipykernel)",
   "language": "python",
   "name": "python3"
  },
  "language_info": {
   "codemirror_mode": {
    "name": "ipython",
    "version": 3
   },
   "file_extension": ".py",
   "mimetype": "text/x-python",
   "name": "python",
   "nbconvert_exporter": "python",
   "pygments_lexer": "ipython3",
   "version": "3.12.3"
  }
 },
 "nbformat": 4,
 "nbformat_minor": 5
}
