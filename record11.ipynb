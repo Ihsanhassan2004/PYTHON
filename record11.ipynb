{
 "cells": [
  {
   "cell_type": "code",
   "execution_count": 18,
   "id": "9aaa217d-076f-45ff-b2a8-5285a4462228",
   "metadata": {},
   "outputs": [
    {
     "name": "stdin",
     "output_type": "stream",
     "text": [
      "Enter the line of text:  Hi is hi\n"
     ]
    },
    {
     "name": "stdout",
     "output_type": "stream",
     "text": [
      "The number of occurrences are {'hi': 2, 'is': 1}\n"
     ]
    }
   ],
   "source": [
    "#count the occurrences of each word in a line of text.  \n",
    "n = input(\"Enter the line of text: \").lower().split(\" \")\n",
    "m = {}\n",
    "for i in n:\n",
    "    if i in m:\n",
    "        m[i] += 1\n",
    "    else:\n",
    "        m[i] = 1\n",
    "print(\"The number of occurrences are\", m)\n",
    "    \n"
   ]
  },
  {
   "cell_type": "code",
   "execution_count": 7,
   "id": "073b1ec5-2c23-4768-b55d-638609f433f7",
   "metadata": {},
   "outputs": [
    {
     "name": "stdin",
     "output_type": "stream",
     "text": [
      "enter list of integers: 100,101,99\n"
     ]
    },
    {
     "name": "stdout",
     "output_type": "stream",
     "text": [
      "replaced string is [100, 'over', 99]\n"
     ]
    }
   ],
   "source": [
    "#prompt the user for a list of integers.for all values greater than 100,store'over' instead.\n",
    "a=list(map(int,input(\"enter list of integers:\").split(\",\")))\n",
    "\n",
    "b=[]\n",
    "for i in a:\n",
    "    if i>100:\n",
    "      b.append(\"over\")  \n",
    "    else:\n",
    "        b.append(i)\n",
    "print(\"replaced string is\",b)        \n",
    "       \n",
    "      \n"
   ]
  },
  {
   "cell_type": "code",
   "execution_count": 37,
   "id": "3c765579-d0e6-456b-a98d-2bcdc4ea95e8",
   "metadata": {},
   "outputs": [
    {
     "name": "stdin",
     "output_type": "stream",
     "text": [
      "Enter list of first names:  ihsan aa\n"
     ]
    },
    {
     "name": "stdout",
     "output_type": "stream",
     "text": [
      "occurence of 'a' is= 3\n"
     ]
    }
   ],
   "source": [
    "#store a list of first names.count the occurence of 'a' within the list\n",
    "n=input(\"Enter list of first names: \").lower().split()\n",
    "a=0\n",
    "for i in n:\n",
    "    a += i.count('a')\n",
    "\n",
    "print(\"occurence of 'a' is=\",a)\n",
    "    \n",
    "   \n"
   ]
  },
  {
   "cell_type": "code",
   "execution_count": 40,
   "id": "c392c0ad-8458-43e0-bbe7-7a7d81f38725",
   "metadata": {},
   "outputs": [
    {
     "name": "stdin",
     "output_type": "stream",
     "text": [
      "enter the first number: 6\n",
      "enter the second number: 34\n"
     ]
    },
    {
     "name": "stdout",
     "output_type": "stream",
     "text": [
      "the gcd is 2\n"
     ]
    }
   ],
   "source": [
    "#find the gcd  of 2 numbers\n",
    "a=int(input(\"enter the first number:\"))\n",
    "b=int(input(\"enter the second number:\"))\n",
    "while b:\n",
    "    a,b=b,a%b\n",
    "print(\"the gcd is\",a)    \n",
    "    \n"
   ]
  },
  {
   "cell_type": "code",
   "execution_count": 25,
   "id": "dd02e6dd-dbfc-4aee-9cae-521759f633af",
   "metadata": {},
   "outputs": [
    {
     "name": "stdin",
     "output_type": "stream",
     "text": [
      "enter list of integers: 1,2,3,4,5,6\n"
     ]
    },
    {
     "name": "stdout",
     "output_type": "stream",
     "text": [
      "list of removing even numbers: [1, 3, 5]\n"
     ]
    }
   ],
   "source": [
    "#from a list integers,create a list removing even numbers\n",
    "a=list(map(int,input(\"enter list of integers:\").split(\",\")))\n",
    "n=[]\n",
    "for i in a:\n",
    "    if i%2!=0:\n",
    "       n.append(i)\n",
    "print(\"list of removing even numbers:\",n)\n",
    "\n"
   ]
  },
  {
   "cell_type": "code",
   "execution_count": 6,
   "id": "114461a6-694b-47bb-ac07-a613065ec64c",
   "metadata": {},
   "outputs": [
    {
     "name": "stdin",
     "output_type": "stream",
     "text": [
      "enter the number: 5\n"
     ]
    },
    {
     "name": "stdout",
     "output_type": "stream",
     "text": [
      "the factorial of 5 is 120\n"
     ]
    }
   ],
   "source": [
    "#program to find the factorial of a number\n",
    "a=int(input(\"enter the number:\"))\n",
    "num=1\n",
    "for i in range(1,a+1):\n",
    "     num*=i\n",
    "print(\"the factorial of\",a,\"is\",num)    \n",
    "    \n",
    "    \n"
   ]
  },
  {
   "cell_type": "code",
   "execution_count": 24,
   "id": "a7eb2baf-2598-4e66-aa28-6019591c14ad",
   "metadata": {},
   "outputs": [
    {
     "name": "stdin",
     "output_type": "stream",
     "text": [
      "Enter the number of terms:  5\n"
     ]
    },
    {
     "name": "stdout",
     "output_type": "stream",
     "text": [
      "Fibonacci series:\n",
      "0,1,1,2,3,"
     ]
    }
   ],
   "source": [
    "#generate fibnacci series of N terms\n",
    "c = int(input(\"Enter the number of terms: \"))\n",
    "a = 0\n",
    "b = 1\n",
    "\n",
    "print(\"Fibonacci series:\")\n",
    "for i in range(c):\n",
    "     print(a, end=',')\n",
    "     temp=a+b\n",
    "     a=b\n",
    "     b=temp\n"
   ]
  },
  {
   "cell_type": "code",
   "execution_count": 33,
   "id": "30299b81-49ae-4812-a88e-fa4eac1b1966",
   "metadata": {},
   "outputs": [
    {
     "name": "stdin",
     "output_type": "stream",
     "text": [
      "enter list of items: 1,2,3,4,5\n"
     ]
    },
    {
     "name": "stdout",
     "output_type": "stream",
     "text": [
      "list of all items: [1, 2, 3, 4, 5]\n",
      "sum of all items: 15\n"
     ]
    }
   ],
   "source": [
    "#find the sum of all items in a list\n",
    "a=list(map(int,input(\"enter list of items:\").split(\",\")))\n",
    "print(\"list of all items:\",a)\n",
    "sum=0\n",
    "for i in a:\n",
    "    sum+=i\n",
    "print(\"sum of all items:\",sum)    \n"
   ]
  },
  {
   "cell_type": "code",
   "execution_count": 6,
   "id": "c1848ca2-c64d-4fce-8943-739974f70824",
   "metadata": {},
   "outputs": [
    {
     "name": "stdout",
     "output_type": "stream",
     "text": [
      "4-digit numbers that are perfect squares with all even digits: [4624, 6084, 6400, 8464]\n"
     ]
    }
   ],
   "source": [
    "#generate a list of four digit numbers in a given range with all their digits even and the number is a perfect square\n",
    "import math\n",
    "r = []\n",
    "for i in range(1000, 10000):\n",
    "    root = math.isqrt(i)\n",
    "    if root ** 2 == i: \n",
    "        digit = str(i)\n",
    "        if all(int(d) % 2 == 0 for d in digit):\n",
    "            r.append(i)\n",
    "\n",
    "print(\"4-digit numbers that are perfect squares with all even digits:\", r)\n"
   ]
  },
  {
   "cell_type": "code",
   "execution_count": 27,
   "id": "486ae2bc-cc48-41af-8405-00f556ea1921",
   "metadata": {},
   "outputs": [
    {
     "name": "stdin",
     "output_type": "stream",
     "text": [
      "Enter string:  hello\n"
     ]
    },
    {
     "name": "stdout",
     "output_type": "stream",
     "text": [
      "frequency of:\n",
      "h = 1\n",
      "e = 1\n",
      "l = 2\n",
      "o = 1\n"
     ]
    }
   ],
   "source": [
    "#count the number of characters(character frequency) in a string\n",
    "a = input(\"Enter string: \")\n",
    "cf= {}\n",
    "\n",
    "for c in a:\n",
    "    if c in cf:\n",
    "        cf[c] += 1\n",
    "    else:printf(\"\")\n",
    "        cf[c] = 1\n",
    "\n",
    "print('frequency of:')\n",
    "for c, count in cf.items():\n",
    "    print(c,\"=\",count)\n"
   ]
  },
  {
   "cell_type": "code",
   "execution_count": 19,
   "id": "f7fd7635-12d3-4932-a704-c01f00e7a085",
   "metadata": {},
   "outputs": [
    {
     "name": "stdin",
     "output_type": "stream",
     "text": [
      "Enter the number of steps:  4\n"
     ]
    },
    {
     "name": "stdout",
     "output_type": "stream",
     "text": [
      "1 \n",
      "2 4 \n",
      "3 6 9 \n",
      "4 8 12 16 \n"
     ]
    }
   ],
   "source": [
    "#display the given pyramid with step number accepted from user.\n",
    "s = int(input(\"Enter the number of steps: \"))\n",
    "\n",
    "for i in range(1, s + 1):\n",
    "    for j in range(1, i + 1):\n",
    "        print(i * j, end=' ')\n",
    "    print()"
   ]
  },
  {
   "cell_type": "code",
   "execution_count": null,
   "id": "8057fd38-7eaf-4bbc-a0d2-274c2c3f21ca",
   "metadata": {},
   "outputs": [],
   "source": []
  }
 ],
 "metadata": {
  "kernelspec": {
   "display_name": "Python 3 (ipykernel)",
   "language": "python",
   "name": "python3"
  },
  "language_info": {
   "codemirror_mode": {
    "name": "ipython",
    "version": 3
   },
   "file_extension": ".py",
   "mimetype": "text/x-python",
   "name": "python",
   "nbconvert_exporter": "python",
   "pygments_lexer": "ipython3",
   "version": "3.12.3"
  }
 },
 "nbformat": 4,
 "nbformat_minor": 5
}
