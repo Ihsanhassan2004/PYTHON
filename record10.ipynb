{
 "cells": [
  {
   "cell_type": "code",
   "execution_count": 28,
   "id": "cf7ad12f-8650-41e2-ac34-adc684b3e1c0",
   "metadata": {},
   "outputs": [
    {
     "name": "stdin",
     "output_type": "stream",
     "text": [
      "enter 1 list integers: 1,2,3,4\n",
      "enter 2 list integers: 3,4,5,6\n"
     ]
    },
    {
     "name": "stdout",
     "output_type": "stream",
     "text": [
      "first list= [1, 2, 3, 4]\n",
      "second list= [3, 4, 5, 6]\n",
      "2 list have same length\n",
      "2 list not have same sum\n",
      "Common values in both lists: {3, 4}\n"
     ]
    }
   ],
   "source": [
    "#enter 2 lists of integers.check (a)whether list are of same length (b)whether list sums to same value(c)whether any value occur in both\n",
    "a=list(map(int,input(\"enter 1 list integers:\").split(\",\")))\n",
    "b=list(map(int,input(\"enter 2 list integers:\").split(\",\")))\n",
    "print(\"first list=\",a)\n",
    "print(\"second list=\",b)\n",
    "if len(a)==len(b):\n",
    "    print(\"2 list have same length\")\n",
    "else:\n",
    "    print(\"2 list not have same length\")\n",
    "if sum(a)==sum(b):\n",
    "        print(\"2 list have same sum\")\n",
    "else:\n",
    "    print(\"2 list not have same sum\")\n",
    "\n",
    "if set(a).intersection(set(b)):\n",
    "    print(\"Common values in both lists:\", set(a).intersection(set(b)))\n",
    "else:\n",
    "    print(\"No common values in both lists.\")"
   ]
  },
  {
   "cell_type": "code",
   "execution_count": 20,
   "id": "d7fdd935-557c-4b3f-88c3-ea84b8970061",
   "metadata": {},
   "outputs": [
    {
     "name": "stdin",
     "output_type": "stream",
     "text": [
      "Enter a string:  play\n"
     ]
    },
    {
     "name": "stdout",
     "output_type": "stream",
     "text": [
      "modified string is: playing\n"
     ]
    }
   ],
   "source": [
    "#add 'ing' at the end of a given string if it already end with 'ing',then add 'iy'\n",
    "a = input(\"Enter a string: \")\n",
    "if a.endswith(\"ing\"):\n",
    "    a+=\"iy\"\n",
    "else:\n",
    "    a+=\"ing\"\n",
    "print(\"modified string is:\",a)    \n",
    "    "
   ]
  },
  {
   "cell_type": "code",
   "execution_count": null,
   "id": "f62632bb-7645-4f6f-a227-bbbeb67ec408",
   "metadata": {},
   "outputs": [],
   "source": []
  }
 ],
 "metadata": {
  "kernelspec": {
   "display_name": "Python 3 (ipykernel)",
   "language": "python",
   "name": "python3"
  },
  "language_info": {
   "codemirror_mode": {
    "name": "ipython",
    "version": 3
   },
   "file_extension": ".py",
   "mimetype": "text/x-python",
   "name": "python",
   "nbconvert_exporter": "python",
   "pygments_lexer": "ipython3",
   "version": "3.11.7"
  }
 },
 "nbformat": 4,
 "nbformat_minor": 5
}
