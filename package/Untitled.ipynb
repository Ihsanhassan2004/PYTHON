{
 "cells": [
  {
   "cell_type": "code",
   "execution_count": null,
   "id": "f696fe76-c480-450d-b361-c66810b4133a",
   "metadata": {},
   "outputs": [
    {
     "name": "stdout",
     "output_type": "stream",
     "text": [
      "1.rectangle \n",
      " 2.circle\n",
      " 3.sphere \n",
      " 4.cuboid \n",
      " 5.exit \n",
      "\n"
     ]
    },
    {
     "name": "stdin",
     "output_type": "stream",
     "text": [
      "enter your choice: 2\n",
      "enter the radius: 3\n"
     ]
    },
    {
     "name": "stdout",
     "output_type": "stream",
     "text": [
      "area of circle is 28.259999999999998\n",
      "perimeter of circle: 18.84\n",
      "1.rectangle \n",
      " 2.circle\n",
      " 3.sphere \n",
      " 4.cuboid \n",
      " 5.exit \n",
      "\n"
     ]
    },
    {
     "name": "stdin",
     "output_type": "stream",
     "text": [
      "enter your choice: 1\n",
      "enter the length of rectancle: 2\n",
      "enter the breadth of rectangle: 3\n"
     ]
    },
    {
     "name": "stdout",
     "output_type": "stream",
     "text": [
      "area of rectancle is: 6.0\n",
      "perimeter of rectancle: 10.0\n",
      "1.rectangle \n",
      " 2.circle\n",
      " 3.sphere \n",
      " 4.cuboid \n",
      " 5.exit \n",
      "\n"
     ]
    }
   ],
   "source": [
    "from graphics import circle\n",
    "from graphics  import rectancle\n",
    "from graphics.graphics3d import cuboid\n",
    "from graphics.graphics3d import sphere\n",
    "\n",
    "while(1):\n",
    "    print(\"1.rectangle \\n 2.circle\\n 3.sphere \\n 4.cuboid \\n 5.exit \\n\")\n",
    "    c=float(input(\"enter your choice:\"))\n",
    "    if(c==1):\n",
    "        l=float(input(\"enter the length of rectancle:\"))\n",
    "        b=float(input(\"enter the breadth of rectangle:\"))\n",
    "        rectancle.arr(l,b)\n",
    "        rectancle.prr(l,b)\n",
    "    elif(c==2):\n",
    "        r=float(input(\"enter the radius:\"))\n",
    "        circle.arc(r)\n",
    "        circle.prc(r) \n",
    "    elif(c==3):\n",
    "        r=float(input(\"enter the  radius:\"))\n",
    "        sphere.spa(r)\n",
    "        spere.spp(r)\n",
    "    elif(c==4):\n",
    "        l=float(input(\"enter the length of cuboid:\"))\n",
    "        b=float(input(\"enter the breadth of cuboid:\"))\n",
    "        h=float(input(\"enter the height of cuboid:\"))\n",
    "        cuboid.cua(l,b,h)\n",
    "        cuboid.cup(l,b,h)\n",
    "    else:\n",
    "        print(\"exiting\")\n",
    "        break\n"
   ]
  },
  {
   "cell_type": "code",
   "execution_count": null,
   "id": "3bf48876-b5ef-4707-b6e2-044a04eaf9f9",
   "metadata": {},
   "outputs": [],
   "source": []
  }
 ],
 "metadata": {
  "kernelspec": {
   "display_name": "Python 3 (ipykernel)",
   "language": "python",
   "name": "python3"
  },
  "language_info": {
   "codemirror_mode": {
    "name": "ipython",
    "version": 3
   },
   "file_extension": ".py",
   "mimetype": "text/x-python",
   "name": "python",
   "nbconvert_exporter": "python",
   "pygments_lexer": "ipython3",
   "version": "3.12.3"
  }
 },
 "nbformat": 4,
 "nbformat_minor": 5
}
