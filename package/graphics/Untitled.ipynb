{
 "cells": [
  {
   "cell_type": "code",
   "execution_count": 1,
   "id": "f696fe76-c480-450d-b361-c66810b4133a",
   "metadata": {},
   "outputs": [
    {
     "ename": "ModuleNotFoundError",
     "evalue": "No module named 'cuboid'",
     "output_type": "error",
     "traceback": [
      "\u001b[31m---------------------------------------------------------------------------\u001b[39m",
      "\u001b[31mModuleNotFoundError\u001b[39m                       Traceback (most recent call last)",
      "\u001b[36mCell\u001b[39m\u001b[36m \u001b[39m\u001b[32mIn[1]\u001b[39m\u001b[32m, line 3\u001b[39m\n\u001b[32m      1\u001b[39m \u001b[38;5;28;01mimport\u001b[39;00m\u001b[38;5;250m \u001b[39m\u001b[34;01mcircle\u001b[39;00m\n\u001b[32m      2\u001b[39m \u001b[38;5;28;01mimport\u001b[39;00m\u001b[38;5;250m \u001b[39m\u001b[34;01mrectancle\u001b[39;00m\n\u001b[32m----> \u001b[39m\u001b[32m3\u001b[39m \u001b[38;5;28;01mimport\u001b[39;00m\u001b[38;5;250m \u001b[39m\u001b[34;01mcuboid\u001b[39;00m\n\u001b[32m      4\u001b[39m \u001b[38;5;28;01mimport\u001b[39;00m\u001b[38;5;250m \u001b[39m\u001b[34;01msphere\u001b[39;00m\n\u001b[32m      6\u001b[39m \u001b[38;5;28;01mwhile\u001b[39;00m(\u001b[32m1\u001b[39m):\n",
      "\u001b[31mModuleNotFoundError\u001b[39m: No module named 'cuboid'"
     ]
    }
   ],
   "source": [
    "import circle\n",
    "import rectancle\n",
    "import cuboid\n",
    "import sphere\n",
    "\n",
    "while(1):\n",
    "    print(\"1.rectangle \\n 2.circle\\n 3.sphere \\n 4.cuboid \\n 5.exit \\n\")\n",
    "    c=float(input(\"enter your choice:\"))\n",
    "    if(c==1):\n",
    "        l=float(input(\"enter the length of rectancle:\"))\n",
    "        b=float(input(\"enter the breadth of rectangle:\"))\n",
    "        rectancle.arr(l,b)\n",
    "        rectancle.prr(l,b)\n",
    "    elif(c==2):\n",
    "        r=float(input(\"enter the radius:\"))\n",
    "        circle.arc(r)\n",
    "        circle.prc(r) \n",
    "    elif(c==3):\n",
    "        r=float(input(\"enter the  radius:\"))\n",
    "        sphere.spa(r)\n",
    "        spere.spp(r)\n",
    "    elif(c==4):\n",
    "        l=float(input(\"enter the length of cuboid:\"))\n",
    "        b=float(input(\"enter the breadth of cuboid:\"))\n",
    "        h=float(input(\"enter the height of cuboid:\"))\n",
    "        cuboid.cua(l,b,h)\n",
    "        cuboid.cup(l,b,h)\n",
    "    else:\n",
    "        print(\"exiting\")\n",
    "        break\n"
   ]
  },
  {
   "cell_type": "code",
   "execution_count": null,
   "id": "3bf48876-b5ef-4707-b6e2-044a04eaf9f9",
   "metadata": {},
   "outputs": [],
   "source": []
  }
 ],
 "metadata": {
  "kernelspec": {
   "display_name": "Python 3 (ipykernel)",
   "language": "python",
   "name": "python3"
  },
  "language_info": {
   "codemirror_mode": {
    "name": "ipython",
    "version": 3
   },
   "file_extension": ".py",
   "mimetype": "text/x-python",
   "name": "python",
   "nbconvert_exporter": "python",
   "pygments_lexer": "ipython3",
   "version": "3.12.3"
  }
 },
 "nbformat": 4,
 "nbformat_minor": 5
}
